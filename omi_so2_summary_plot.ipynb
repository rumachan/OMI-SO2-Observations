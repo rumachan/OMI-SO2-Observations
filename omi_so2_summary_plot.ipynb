{
 "cells": [
  {
   "cell_type": "markdown",
   "metadata": {},
   "source": [
    "# OMI SO<sub>2</sub> Observations\n",
    "\n",
    "## Purpose:\n",
    "- To visualize SO<sub>2</sub> mass estimates calculated from processing of OMI satellite data. The processing is currently unsupported work by Jeremy Cole-Baker completed in 2010.\n",
    "- Make simple mass vs time plots. Do this for Vanuatu, and separately for all other areas. For Vanuatu, several shorter duration plots are also produced, to help visualize the effects of recent activity.\n",
    "\n",
    "## Data File:\n",
    "- so2_summary.csv\n",
    "- The file is created automatically and shows the total mass seen in each of the scenes.\n",
    "- The scenes are pre-selected.\n",
    "- A few months into the observation period, two additional scenes were added: Vanuatu - Ambae and Vanuatu - Tanna. The mass estimates for these scenes were placed in columns immediately after Vanuatu - Ambrym. Columns that were to the right of Vanuatu - Ambrym in so2_summary.csv moved two columns to the right. The column headers for the file were not changed when the two additional scenes were added.\n",
    "- The data file is read in two parts, and then concatenated, to account for the chnage in number of columns part way through the file.\n",
    "\n",
    "## Analysis:\n",
    "The data file is from analysis from \"middle troposheric SO<sub>2</sub> retrieval\"\n",
    "\n",
    "## Author:\n",
    "Steven Sherburn\n",
    "## Date:\n",
    "July 2018"
   ]
  },
  {
   "cell_type": "code",
   "execution_count": null,
   "metadata": {},
   "outputs": [],
   "source": [
    "import pandas as pd\n",
    "import numpy as np\n",
    "import matplotlib.pyplot as plt\n",
    "\n",
    "%matplotlib inline"
   ]
  },
  {
   "cell_type": "code",
   "execution_count": null,
   "metadata": {},
   "outputs": [],
   "source": [
    "%%javascript\n",
    "IPython.OutputArea.prototype._should_scroll = function(lines) {\n",
    "    return false;\n",
    "}"
   ]
  },
  {
   "cell_type": "code",
   "execution_count": null,
   "metadata": {},
   "outputs": [],
   "source": [
    "from IPython.core.display import display, HTML\n",
    "display(HTML(\"<style>.container { width:100% !important; }</style>\"))"
   ]
  },
  {
   "cell_type": "markdown",
   "metadata": {},
   "source": [
    "## Read data file ##"
   ]
  },
  {
   "cell_type": "markdown",
   "metadata": {},
   "source": [
    "**Get data file from waihaha**"
   ]
  },
  {
   "cell_type": "code",
   "execution_count": null,
   "metadata": {},
   "outputs": [],
   "source": [
    "%%bash\n",
    "ssh volcano@waihaha \"cat /home/volcano/programs/omi/logs/so2_summary.csv\" > so2_summary.csv"
   ]
  },
  {
   "cell_type": "markdown",
   "metadata": {},
   "source": [
    "**First part of file**"
   ]
  },
  {
   "cell_type": "code",
   "execution_count": null,
   "metadata": {},
   "outputs": [],
   "source": [
    "names1 = ['Date','South West Pacific','South East Pacific','PNG/Solomon Islands','Vanuatu','Vanuatu - Gaua','Vanuatu - Ambrym','New Caledonia','Samoa','Raoul/Curtis','Society Islands','New Zealand']"
   ]
  },
  {
   "cell_type": "code",
   "execution_count": null,
   "metadata": {},
   "outputs": [],
   "source": [
    "df1 = pd.read_csv('so2_summary.csv', names=names1, skiprows=1, nrows=88, parse_dates=True, index_col='Date')\n",
    "df1['Vanuatu - Ambae'] = np.NaN\n",
    "df1['Vanuatu - Tanna'] = np.NaN"
   ]
  },
  {
   "cell_type": "markdown",
   "metadata": {},
   "source": [
    "**Second part of file**"
   ]
  },
  {
   "cell_type": "code",
   "execution_count": null,
   "metadata": {},
   "outputs": [],
   "source": [
    "names2 = ['Date','South West Pacific','South East Pacific','PNG/Solomon Islands','Vanuatu','Vanuatu - Gaua','Vanuatu - Ambrym','Vanuatu - Ambae','Vanuatu - Tanna','New Caledonia','Samoa','Raoul/Curtis','Society Islands','New Zealand']"
   ]
  },
  {
   "cell_type": "code",
   "execution_count": null,
   "metadata": {},
   "outputs": [],
   "source": [
    "df2 = pd.read_csv('so2_summary.csv', names=names2, skiprows=89, parse_dates=True, index_col='Date')"
   ]
  },
  {
   "cell_type": "markdown",
   "metadata": {},
   "source": [
    "**Concatentate partts**"
   ]
  },
  {
   "cell_type": "code",
   "execution_count": null,
   "metadata": {},
   "outputs": [],
   "source": [
    "df = pd.concat([df1, df2], sort=True)"
   ]
  },
  {
   "cell_type": "code",
   "execution_count": null,
   "metadata": {},
   "outputs": [],
   "source": [
    "df2.head()"
   ]
  },
  {
   "cell_type": "markdown",
   "metadata": {},
   "source": [
    "## Visualize data  - Vanuatu##"
   ]
  },
  {
   "cell_type": "markdown",
   "metadata": {},
   "source": [
    "**All available data**"
   ]
  },
  {
   "cell_type": "code",
   "execution_count": null,
   "metadata": {},
   "outputs": [],
   "source": [
    "fig, (ax1, ax2, ax3, ax4, ax5) = plt.subplots(5,1, figsize=(15,25), sharex=True)\n",
    "\n",
    "#Vanuatu\n",
    "ax1.plot(df['Vanuatu'])\n",
    "ax1.set_title('Vanuatu View')\n",
    "ax1.set_ylabel('SO2 (kilo-tonnes)')\n",
    "ax1.grid()\n",
    "#Ambae\n",
    "ax2.plot(df['Vanuatu - Ambae'])\n",
    "ax2.set_title('Ambae View')\n",
    "ax2.set_ylabel('SO2 (kilo-tonnes)')\n",
    "ax2.grid()\n",
    "#Ambrym\n",
    "ax3.plot(df['Vanuatu - Ambrym'])\n",
    "ax3.set_title('Ambyrm View')\n",
    "ax3.set_ylabel('SO2 (kilo-tonnes)')\n",
    "ax3.grid()\n",
    "#Tanna\n",
    "ax4.plot(df['Vanuatu - Tanna'])\n",
    "ax4.set_title('Tanna View')\n",
    "ax4.set_ylabel('SO2 (kilo-tonnes)')\n",
    "ax4.grid()\n",
    "#Gaua\n",
    "ax5.plot(df['Vanuatu - Gaua'])\n",
    "ax5.set_title('Gaua View')\n",
    "ax5.set_ylabel('SO2 (kilo-tonnes)')\n",
    "ax5.grid()\n",
    "\n",
    "plt.savefig('omi_so2_vanuatu.png')"
   ]
  },
  {
   "cell_type": "markdown",
   "metadata": {},
   "source": [
    "**Data since July 2017**"
   ]
  },
  {
   "cell_type": "code",
   "execution_count": null,
   "metadata": {},
   "outputs": [],
   "source": [
    "dfrecent = df[df.index>='2017-07-01']"
   ]
  },
  {
   "cell_type": "code",
   "execution_count": null,
   "metadata": {
    "scrolled": true
   },
   "outputs": [],
   "source": [
    "fig, (ax1, ax2, ax3, ax4, ax5) = plt.subplots(5,1, figsize=(15,25), sharex=True)\n",
    "\n",
    "#Vanuatu\n",
    "ax1.plot(dfrecent['Vanuatu'])\n",
    "ax1.set_title('Vanuatu View')\n",
    "ax1.set_ylabel('SO2 (kilo-tonnes)')\n",
    "ax1.grid()\n",
    "#Ambae\n",
    "ax2.plot(dfrecent['Vanuatu - Ambae'])\n",
    "ax2.set_title('Ambae View')\n",
    "ax2.set_ylabel('SO2 (kilo-tonnes)')\n",
    "ax2.grid()\n",
    "#Ambrym\n",
    "ax3.plot(dfrecent['Vanuatu - Ambrym'])\n",
    "ax3.set_title('Ambyrm View')\n",
    "ax3.set_ylabel('SO2 (kilo-tonnes)')\n",
    "ax3.grid()\n",
    "#Tanna\n",
    "ax4.plot(dfrecent['Vanuatu - Tanna'])\n",
    "ax4.set_title('Tanna View')\n",
    "ax4.set_ylabel('SO2 (kilo-tonnes)')\n",
    "ax4.grid()\n",
    "#Gaua\n",
    "ax5.plot(dfrecent['Vanuatu - Gaua'])\n",
    "ax5.set_title('Gaua View')\n",
    "ax5.set_ylabel('SO2 (kilo-tonnes)')\n",
    "ax5.grid()\n",
    "\n",
    "plt.savefig('omi_so2_vanuatu_recent.png')"
   ]
  },
  {
   "cell_type": "markdown",
   "metadata": {},
   "source": [
    "## Visualize data  - Other Views##"
   ]
  },
  {
   "cell_type": "markdown",
   "metadata": {},
   "source": [
    "**All available data**"
   ]
  },
  {
   "cell_type": "code",
   "execution_count": null,
   "metadata": {},
   "outputs": [],
   "source": [
    "df.columns"
   ]
  },
  {
   "cell_type": "code",
   "execution_count": null,
   "metadata": {},
   "outputs": [],
   "source": [
    "fig, (ax1, ax2, ax3, ax4, ax5, ax6, ax7, ax8) = plt.subplots(8,1, figsize=(15,40), sharex=True)\n",
    "\n",
    "#New Caledonia\n",
    "ax1.plot(df['New Caledonia'])\n",
    "ax1.set_title('New Caledonia View')\n",
    "ax1.set_ylabel('SO2 (kilo-tonnes)')\n",
    "ax1.grid()\n",
    "#New Zealand\n",
    "ax2.plot(df['New Zealand'])\n",
    "ax2.set_title('New Zealand View')\n",
    "ax2.set_ylabel('SO2 (kilo-tonnes)')\n",
    "ax2.grid()\n",
    "#PNG/Solomon Islands\n",
    "ax3.plot(df['PNG/Solomon Islands'])\n",
    "ax3.set_title('PNG/Solomon Islands View')\n",
    "ax3.set_ylabel('SO2 (kilo-tonnes)')\n",
    "ax3.grid()\n",
    "#Raoul/Curtis\n",
    "ax4.plot(df['Raoul/Curtis'])\n",
    "ax4.set_title('Raoul/Curtis View')\n",
    "ax4.set_ylabel('SO2 (kilo-tonnes)')\n",
    "ax4.grid()\n",
    "#Samoa/Fiji/Tonga\n",
    "ax5.plot(df['Samoa'])\n",
    "ax5.set_title('Samoa/Fiji/Tonga View')\n",
    "ax5.set_ylabel('SO2 (kilo-tonnes)')\n",
    "ax5.grid()\n",
    "#Society Islands\n",
    "ax6.plot(df['Society Islands'])\n",
    "ax6.set_title('Society Islands View')\n",
    "ax6.set_ylabel('SO2 (kilo-tonnes)')\n",
    "ax6.grid()\n",
    "#South East Pacific\n",
    "ax7.plot(df['South East Pacific'])\n",
    "ax7.set_title('South East Pacific View')\n",
    "ax7.set_ylabel('SO2 (kilo-tonnes)')\n",
    "ax7.grid()\n",
    "#South West Pacific\n",
    "ax8.plot(df['South West Pacific'])\n",
    "ax8.set_title('South West Pacific')\n",
    "ax8.set_ylabel('SO2 (kilo-tonnes)')\n",
    "ax8.grid()\n",
    "\n",
    "plt.savefig('omi_so2_other.png')"
   ]
  }
 ],
 "metadata": {
  "kernelspec": {
   "display_name": "Python 3",
   "language": "python",
   "name": "python3"
  },
  "language_info": {
   "codemirror_mode": {
    "name": "ipython",
    "version": 3
   },
   "file_extension": ".py",
   "mimetype": "text/x-python",
   "name": "python",
   "nbconvert_exporter": "python",
   "pygments_lexer": "ipython3",
   "version": "3.6.5"
  }
 },
 "nbformat": 4,
 "nbformat_minor": 2
}
