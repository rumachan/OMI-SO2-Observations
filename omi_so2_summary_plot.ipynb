{
 "cells": [
  {
   "cell_type": "code",
   "execution_count": null,
   "metadata": {},
   "outputs": [],
   "source": [
    "import pandas as pd\n",
    "import numpy as np\n",
    "import matplotlib.pyplot as plt\n",
    "\n",
    "%matplotlib inline"
   ]
  },
  {
   "cell_type": "code",
   "execution_count": null,
   "metadata": {},
   "outputs": [],
   "source": [
    "%%javascript\n",
    "IPython.OutputArea.prototype._should_scroll = function(lines) {\n",
    "    return false;\n",
    "}"
   ]
  },
  {
   "cell_type": "code",
   "execution_count": null,
   "metadata": {},
   "outputs": [],
   "source": [
    "from IPython.core.display import display, HTML\n",
    "display(HTML(\"<style>.container { width:100% !important; }</style>\"))"
   ]
  },
  {
   "cell_type": "code",
   "execution_count": null,
   "metadata": {},
   "outputs": [],
   "source": [
    "names1 = ['Date','South West Pacific','South East Pacific','PNG/Solomon Islands','Vanuatu','Vanuatu - Gaua','Vanuatu - Ambrym','New Caledonia','Samoa','Raoul/Curtis','Society Islands','New Zealand']"
   ]
  },
  {
   "cell_type": "code",
   "execution_count": null,
   "metadata": {},
   "outputs": [],
   "source": [
    "df1 = pd.read_csv('so2_summary.csv', names=names1, skiprows=1, nrows=88, parse_dates=True, index_col='Date')\n",
    "df1['Vanuatu - Ambae'] = np.NaN\n",
    "df1['Vanuatu - Tanna'] = np.NaN"
   ]
  },
  {
   "cell_type": "code",
   "execution_count": null,
   "metadata": {},
   "outputs": [],
   "source": [
    "names2 = ['Date','South West Pacific','South East Pacific','PNG/Solomon Islands','Vanuatu','Vanuatu - Gaua','Vanuatu - Ambrym','Vanuatu - Ambae','Vanuatu - Tanna','New Caledonia','Samoa','Raoul/Curtis','Society Islands','New Zealand']"
   ]
  },
  {
   "cell_type": "code",
   "execution_count": null,
   "metadata": {},
   "outputs": [],
   "source": [
    "df2 = pd.read_csv('so2_summary.csv', names=names2, skiprows=89, parse_dates=True, index_col='Date')"
   ]
  },
  {
   "cell_type": "code",
   "execution_count": null,
   "metadata": {},
   "outputs": [],
   "source": [
    "df = pd.concat([df1, df2], sort=True)"
   ]
  },
  {
   "cell_type": "code",
   "execution_count": null,
   "metadata": {},
   "outputs": [],
   "source": [
    "df.tail()"
   ]
  },
  {
   "cell_type": "code",
   "execution_count": null,
   "metadata": {},
   "outputs": [],
   "source": [
    "fig, (ax1, ax2, ax3, ax4, ax5) = plt.subplots(5,1, figsize=(15,25), sharex=True)\n",
    "\n",
    "#Vanuatu\n",
    "ax1.plot(df['Vanuatu'])\n",
    "ax1.set_title('Vanuatu View')\n",
    "ax1.set_ylabel('SO2 (kilo-tonnes)')\n",
    "ax1.grid()\n",
    "#Ambae\n",
    "ax2.plot(df['Vanuatu - Ambae'])\n",
    "ax2.set_title('Ambae View')\n",
    "ax2.set_ylabel('SO2 (kilo-tonnes)')\n",
    "ax2.grid()\n",
    "#Ambrym\n",
    "ax3.plot(df['Vanuatu - Ambrym'])\n",
    "ax3.set_title('Ambyrm View')\n",
    "ax3.set_ylabel('SO2 (kilo-tonnes)')\n",
    "ax3.grid()\n",
    "#Tanna\n",
    "ax4.plot(df['Vanuatu - Tanna'])\n",
    "ax4.set_title('Tanna View')\n",
    "ax4.set_ylabel('SO2 (kilo-tonnes)')\n",
    "ax4.grid()\n",
    "#Gaua\n",
    "ax5.plot(df['Vanuatu - Gaua'])\n",
    "ax5.set_title('Gaua View')\n",
    "ax5.set_ylabel('SO2 (kilo-tonnes)')\n",
    "ax5.grid()\n",
    "\n",
    "plt.savefig('omi_so2_vanuatu.png')"
   ]
  },
  {
   "cell_type": "markdown",
   "metadata": {},
   "source": [
    "## Since July 2017 ##"
   ]
  },
  {
   "cell_type": "code",
   "execution_count": null,
   "metadata": {},
   "outputs": [],
   "source": [
    "dfrecent = df[df.index>='2017-07-01']"
   ]
  },
  {
   "cell_type": "code",
   "execution_count": null,
   "metadata": {},
   "outputs": [],
   "source": [
    "fig, (ax1, ax2, ax3, ax4, ax5) = plt.subplots(5,1, figsize=(15,25), sharex=True)\n",
    "\n",
    "#Vanuatu\n",
    "ax1.plot(dfrecent['Vanuatu'])\n",
    "ax1.set_title('Vanuatu View')\n",
    "ax1.set_ylabel('SO2 (kilo-tonnes)')\n",
    "ax1.grid()\n",
    "#Ambae\n",
    "ax2.plot(dfrecent['Vanuatu - Ambae'])\n",
    "ax2.set_title('Ambae View')\n",
    "ax2.set_ylabel('SO2 (kilo-tonnes)')\n",
    "ax2.grid()\n",
    "#Ambrym\n",
    "ax3.plot(dfrecent['Vanuatu - Ambrym'])\n",
    "ax3.set_title('Ambyrm View')\n",
    "ax3.set_ylabel('SO2 (kilo-tonnes)')\n",
    "ax3.grid()\n",
    "#Tanna\n",
    "ax4.plot(dfrecent['Vanuatu - Tanna'])\n",
    "ax4.set_title('Tanna View')\n",
    "ax4.set_ylabel('SO2 (kilo-tonnes)')\n",
    "ax4.grid()\n",
    "#Gaua\n",
    "ax5.plot(dfrecent['Vanuatu - Gaua'])\n",
    "ax5.set_title('Gaua View')\n",
    "ax5.set_ylabel('SO2 (kilo-tonnes)')\n",
    "ax5.grid()\n",
    "\n",
    "plt.savefig('omi_so2_vanuatu_recent.png')"
   ]
  }
 ],
 "metadata": {
  "kernelspec": {
   "display_name": "Python 3",
   "language": "python",
   "name": "python3"
  },
  "language_info": {
   "codemirror_mode": {
    "name": "ipython",
    "version": 3
   },
   "file_extension": ".py",
   "mimetype": "text/x-python",
   "name": "python",
   "nbconvert_exporter": "python",
   "pygments_lexer": "ipython3",
   "version": "3.6.5"
  }
 },
 "nbformat": 4,
 "nbformat_minor": 2
}
